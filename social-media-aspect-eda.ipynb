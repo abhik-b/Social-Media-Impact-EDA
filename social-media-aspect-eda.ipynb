{
 "cells": [
  {
   "cell_type": "code",
   "execution_count": 1,
   "id": "ff1d41f1",
   "metadata": {
    "_cell_guid": "b1076dfc-b9ad-4769-8c92-a6c4dae69d19",
    "_uuid": "8f2839f25d086af736a60e9eeb907d3b93b6e0e5",
    "execution": {
     "iopub.execute_input": "2025-04-15T04:28:49.168511Z",
     "iopub.status.busy": "2025-04-15T04:28:49.168197Z",
     "iopub.status.idle": "2025-04-15T04:28:51.091560Z",
     "shell.execute_reply": "2025-04-15T04:28:51.090485Z"
    },
    "papermill": {
     "duration": 1.930629,
     "end_time": "2025-04-15T04:28:51.093301",
     "exception": false,
     "start_time": "2025-04-15T04:28:49.162672",
     "status": "completed"
    },
    "tags": []
   },
   "outputs": [
    {
     "name": "stdout",
     "output_type": "stream",
     "text": [
      "/kaggle/input/social-media-aspects/dataset.csv\n"
     ]
    }
   ],
   "source": [
    "# This Python 3 environment comes with many helpful analytics libraries installed\n",
    "# It is defined by the kaggle/python Docker image: https://github.com/kaggle/docker-python\n",
    "# For example, here's several helpful packages to load\n",
    "\n",
    "import numpy as np # linear algebra\n",
    "import pandas as pd # data processing, CSV file I/O (e.g. pd.read_csv)\n",
    "\n",
    "# Input data files are available in the read-only \"../input/\" directory\n",
    "# For example, running this (by clicking run or pressing Shift+Enter) will list all files under the input directory\n",
    "\n",
    "import os\n",
    "for dirname, _, filenames in os.walk('/kaggle/input'):\n",
    "    for filename in filenames:\n",
    "        print(os.path.join(dirname, filename))\n",
    "\n",
    "# You can write up to 20GB to the current directory (/kaggle/working/) that gets preserved as output when you create a version using \"Save & Run All\" \n",
    "# You can also write temporary files to /kaggle/temp/, but they won't be saved outside of the current session"
   ]
  },
  {
   "cell_type": "code",
   "execution_count": 2,
   "id": "28db0c40",
   "metadata": {
    "execution": {
     "iopub.execute_input": "2025-04-15T04:28:51.102237Z",
     "iopub.status.busy": "2025-04-15T04:28:51.101817Z",
     "iopub.status.idle": "2025-04-15T04:28:53.199286Z",
     "shell.execute_reply": "2025-04-15T04:28:53.198495Z"
    },
    "papermill": {
     "duration": 2.103572,
     "end_time": "2025-04-15T04:28:53.200924",
     "exception": false,
     "start_time": "2025-04-15T04:28:51.097352",
     "status": "completed"
    },
    "tags": []
   },
   "outputs": [],
   "source": [
    "import warnings\n",
    "warnings.filterwarnings('ignore')\n",
    "\n",
    "import numpy as np\n",
    "import pandas as pd\n",
    "import matplotlib\n",
    "import matplotlib.pyplot as plt\n",
    "import seaborn as sns\n",
    "\n",
    "# Ensure the appropriate matplotlib backend for Kaggle and inline plotting\n",
    "matplotlib.use('Agg')\n",
    "plt.switch_backend('Agg')\n",
    "%matplotlib inline\n",
    "\n",
    "\n",
    "# Set plot style\n",
    "sns.set_style(\"darkgrid\", {\"axes.facecolor\": \".9\"})"
   ]
  },
  {
   "cell_type": "code",
   "execution_count": 3,
   "id": "fb7298f9",
   "metadata": {
    "execution": {
     "iopub.execute_input": "2025-04-15T04:28:53.209802Z",
     "iopub.status.busy": "2025-04-15T04:28:53.209352Z",
     "iopub.status.idle": "2025-04-15T04:28:53.227416Z",
     "shell.execute_reply": "2025-04-15T04:28:53.226497Z"
    },
    "papermill": {
     "duration": 0.024206,
     "end_time": "2025-04-15T04:28:53.229083",
     "exception": false,
     "start_time": "2025-04-15T04:28:53.204877",
     "status": "completed"
    },
    "tags": []
   },
   "outputs": [],
   "source": [
    "file_path='/kaggle/input/social-media-aspects/dataset.csv'\n",
    "\n",
    "df = pd.read_csv(file_path, encoding='ascii', delimiter=',')\n"
   ]
  },
  {
   "cell_type": "code",
   "execution_count": 4,
   "id": "ef1911a1",
   "metadata": {
    "execution": {
     "iopub.execute_input": "2025-04-15T04:28:53.237568Z",
     "iopub.status.busy": "2025-04-15T04:28:53.237264Z",
     "iopub.status.idle": "2025-04-15T04:28:53.264727Z",
     "shell.execute_reply": "2025-04-15T04:28:53.263816Z"
    },
    "papermill": {
     "duration": 0.033186,
     "end_time": "2025-04-15T04:28:53.266104",
     "exception": false,
     "start_time": "2025-04-15T04:28:53.232918",
     "status": "completed"
    },
    "tags": []
   },
   "outputs": [
    {
     "data": {
      "text/html": [
       "<div>\n",
       "<style scoped>\n",
       "    .dataframe tbody tr th:only-of-type {\n",
       "        vertical-align: middle;\n",
       "    }\n",
       "\n",
       "    .dataframe tbody tr th {\n",
       "        vertical-align: top;\n",
       "    }\n",
       "\n",
       "    .dataframe thead th {\n",
       "        text-align: right;\n",
       "    }\n",
       "</style>\n",
       "<table border=\"1\" class=\"dataframe\">\n",
       "  <thead>\n",
       "    <tr style=\"text-align: right;\">\n",
       "      <th></th>\n",
       "      <th>What is your age group?</th>\n",
       "      <th>What is your occupation?</th>\n",
       "      <th>Where do you live?</th>\n",
       "      <th>How many hours per day do you spend on social media?</th>\n",
       "      <th>How has social media affected your real-life relationships?</th>\n",
       "      <th>How frequently do you use email for communication?</th>\n",
       "      <th>Do you use LinkedIn for professional networking?</th>\n",
       "      <th>How often do you use WhatsApp for communication?</th>\n",
       "      <th>Which social media platforms do you use the most?</th>\n",
       "      <th>Do you feel that social media affects your mental health?</th>\n",
       "    </tr>\n",
       "  </thead>\n",
       "  <tbody>\n",
       "    <tr>\n",
       "      <th>0</th>\n",
       "      <td>18-25</td>\n",
       "      <td>Student</td>\n",
       "      <td>Urban Area</td>\n",
       "      <td>More than 5 hours</td>\n",
       "      <td>Improved</td>\n",
       "      <td>Daily</td>\n",
       "      <td>Yes, actively</td>\n",
       "      <td>Daily</td>\n",
       "      <td>LinkedIn</td>\n",
       "      <td>Yes, negatively</td>\n",
       "    </tr>\n",
       "    <tr>\n",
       "      <th>1</th>\n",
       "      <td>18-25</td>\n",
       "      <td>Student</td>\n",
       "      <td>Urban Area</td>\n",
       "      <td>3-5 hours</td>\n",
       "      <td>No Change</td>\n",
       "      <td>Never</td>\n",
       "      <td>No, never</td>\n",
       "      <td>Daily</td>\n",
       "      <td>Others</td>\n",
       "      <td>Not sure</td>\n",
       "    </tr>\n",
       "    <tr>\n",
       "      <th>2</th>\n",
       "      <td>18-25</td>\n",
       "      <td>Student</td>\n",
       "      <td>Urban Area</td>\n",
       "      <td>3-5 hours</td>\n",
       "      <td>No Change</td>\n",
       "      <td>Rarely</td>\n",
       "      <td>Rarely</td>\n",
       "      <td>Daily</td>\n",
       "      <td>Facebook</td>\n",
       "      <td>Not sure</td>\n",
       "    </tr>\n",
       "    <tr>\n",
       "      <th>3</th>\n",
       "      <td>18-25</td>\n",
       "      <td>Student</td>\n",
       "      <td>Urban Area</td>\n",
       "      <td>3-5 hours</td>\n",
       "      <td>Worsened</td>\n",
       "      <td>Never</td>\n",
       "      <td>No, never</td>\n",
       "      <td>Daily</td>\n",
       "      <td>Facebook</td>\n",
       "      <td>Yes, negatively</td>\n",
       "    </tr>\n",
       "    <tr>\n",
       "      <th>4</th>\n",
       "      <td>18-25</td>\n",
       "      <td>Student</td>\n",
       "      <td>Suburban Area</td>\n",
       "      <td>3-5 hours</td>\n",
       "      <td>Improved</td>\n",
       "      <td>A few times a week</td>\n",
       "      <td>Yes, actively</td>\n",
       "      <td>Daily</td>\n",
       "      <td>Facebook</td>\n",
       "      <td>Yes, negatively</td>\n",
       "    </tr>\n",
       "  </tbody>\n",
       "</table>\n",
       "</div>"
      ],
      "text/plain": [
       "  What is your age group?    What is your occupation?  Where do you live?   \\\n",
       "0                    18-25                     Student          Urban Area   \n",
       "1                    18-25                     Student          Urban Area   \n",
       "2                    18-25                     Student          Urban Area   \n",
       "3                    18-25                     Student          Urban Area   \n",
       "4                    18-25                     Student       Suburban Area   \n",
       "\n",
       "  How many hours per day do you spend on social media?   \\\n",
       "0                                  More than 5 hours      \n",
       "1                                          3-5 hours      \n",
       "2                                          3-5 hours      \n",
       "3                                          3-5 hours      \n",
       "4                                          3-5 hours      \n",
       "\n",
       "  How has social media affected your real-life relationships?   \\\n",
       "0                                           Improved             \n",
       "1                                          No Change             \n",
       "2                                          No Change             \n",
       "3                                           Worsened             \n",
       "4                                           Improved             \n",
       "\n",
       "  How frequently do you use email for communication?   \\\n",
       "0                                              Daily    \n",
       "1                                              Never    \n",
       "2                                             Rarely    \n",
       "3                                              Never    \n",
       "4                                 A few times a week    \n",
       "\n",
       "  Do you use LinkedIn for professional networking?    \\\n",
       "0                                      Yes, actively   \n",
       "1                                          No, never   \n",
       "2                                             Rarely   \n",
       "3                                          No, never   \n",
       "4                                      Yes, actively   \n",
       "\n",
       "  How often do you use WhatsApp for communication?   \\\n",
       "0                                             Daily   \n",
       "1                                             Daily   \n",
       "2                                             Daily   \n",
       "3                                             Daily   \n",
       "4                                             Daily   \n",
       "\n",
       "  Which social media platforms do you use the most?    \\\n",
       "0                                           LinkedIn    \n",
       "1                                             Others    \n",
       "2                                           Facebook    \n",
       "3                                           Facebook    \n",
       "4                                           Facebook    \n",
       "\n",
       "  Do you feel that social media affects your mental health?    \n",
       "0                                    Yes, negatively           \n",
       "1                                           Not sure           \n",
       "2                                           Not sure           \n",
       "3                                    Yes, negatively           \n",
       "4                                    Yes, negatively           "
      ]
     },
     "execution_count": 4,
     "metadata": {},
     "output_type": "execute_result"
    }
   ],
   "source": [
    "df.head()"
   ]
  },
  {
   "cell_type": "markdown",
   "id": "73f58dd0",
   "metadata": {
    "papermill": {
     "duration": 0.003516,
     "end_time": "2025-04-15T04:28:53.273671",
     "exception": false,
     "start_time": "2025-04-15T04:28:53.270155",
     "status": "completed"
    },
    "tags": []
   },
   "source": [
    "## Data Cleaning and Preprocessing"
   ]
  },
  {
   "cell_type": "code",
   "execution_count": 5,
   "id": "0881d039",
   "metadata": {
    "execution": {
     "iopub.execute_input": "2025-04-15T04:28:53.282145Z",
     "iopub.status.busy": "2025-04-15T04:28:53.281829Z",
     "iopub.status.idle": "2025-04-15T04:28:53.310134Z",
     "shell.execute_reply": "2025-04-15T04:28:53.309059Z"
    },
    "papermill": {
     "duration": 0.034376,
     "end_time": "2025-04-15T04:28:53.311728",
     "exception": false,
     "start_time": "2025-04-15T04:28:53.277352",
     "status": "completed"
    },
    "tags": []
   },
   "outputs": [
    {
     "name": "stdout",
     "output_type": "stream",
     "text": [
      "Dataframe info:\n",
      "<class 'pandas.core.frame.DataFrame'>\n",
      "RangeIndex: 49 entries, 0 to 48\n",
      "Data columns (total 10 columns):\n",
      " #   Column                                                        Non-Null Count  Dtype \n",
      "---  ------                                                        --------------  ----- \n",
      " 0   What is your age group?                                       49 non-null     object\n",
      " 1     What is your occupation?                                    49 non-null     object\n",
      " 2   Where do you live?                                            49 non-null     object\n",
      " 3   How many hours per day do you spend on social media?          49 non-null     object\n",
      " 4   How has social media affected your real-life relationships?   49 non-null     object\n",
      " 5   How frequently do you use email for communication?            49 non-null     object\n",
      " 6   Do you use LinkedIn for professional networking?              49 non-null     object\n",
      " 7   How often do you use WhatsApp for communication?              49 non-null     object\n",
      " 8   Which social media platforms do you use the most?             49 non-null     object\n",
      " 9   Do you feel that social media affects your mental health?     49 non-null     object\n",
      "dtypes: object(10)\n",
      "memory usage: 4.0+ KB\n"
     ]
    }
   ],
   "source": [
    "print('Dataframe info:')\n",
    "df.info()"
   ]
  },
  {
   "cell_type": "code",
   "execution_count": 6,
   "id": "c6dd4114",
   "metadata": {
    "execution": {
     "iopub.execute_input": "2025-04-15T04:28:53.321073Z",
     "iopub.status.busy": "2025-04-15T04:28:53.320372Z",
     "iopub.status.idle": "2025-04-15T04:28:53.327913Z",
     "shell.execute_reply": "2025-04-15T04:28:53.327145Z"
    },
    "papermill": {
     "duration": 0.013393,
     "end_time": "2025-04-15T04:28:53.329241",
     "exception": false,
     "start_time": "2025-04-15T04:28:53.315848",
     "status": "completed"
    },
    "tags": []
   },
   "outputs": [
    {
     "name": "stdout",
     "output_type": "stream",
     "text": [
      "\n",
      "Missing values in each column:\n"
     ]
    },
    {
     "data": {
      "text/plain": [
       "What is your age group?                                         0\n",
       "  What is your occupation?                                      0\n",
       "Where do you live?                                              0\n",
       "How many hours per day do you spend on social media?            0\n",
       "How has social media affected your real-life relationships?     0\n",
       "How frequently do you use email for communication?              0\n",
       "Do you use LinkedIn for professional networking?                0\n",
       "How often do you use WhatsApp for communication?                0\n",
       "Which social media platforms do you use the most?               0\n",
       "Do you feel that social media affects your mental health?       0\n",
       "dtype: int64"
      ]
     },
     "execution_count": 6,
     "metadata": {},
     "output_type": "execute_result"
    }
   ],
   "source": [
    "print('\\nMissing values in each column:')\n",
    "df.isnull().sum()"
   ]
  },
  {
   "cell_type": "code",
   "execution_count": 7,
   "id": "539d4bfb",
   "metadata": {
    "execution": {
     "iopub.execute_input": "2025-04-15T04:28:53.338315Z",
     "iopub.status.busy": "2025-04-15T04:28:53.338028Z",
     "iopub.status.idle": "2025-04-15T04:28:53.343754Z",
     "shell.execute_reply": "2025-04-15T04:28:53.343029Z"
    },
    "papermill": {
     "duration": 0.011756,
     "end_time": "2025-04-15T04:28:53.345021",
     "exception": false,
     "start_time": "2025-04-15T04:28:53.333265",
     "status": "completed"
    },
    "tags": []
   },
   "outputs": [],
   "source": [
    "# Renaming each column\n",
    "df.rename(columns={\n",
    "    df.columns[0]: \"Age_Group\",  # What is your age group?\n",
    "    df.columns[1]: \"Occupation\",  # What is your occupation?\n",
    "    df.columns[2]: \"Location\",  # Where do you live?\n",
    "    df.columns[3]: \"Daily_Social_Media_Hrs\",  # How many hours per day do you spend on social media?\n",
    "    df.columns[4]: \"Relationship_Impact\",  # How has social media affected your real-life relationships?\n",
    "    df.columns[5]: \"Email_Frequency\",  # How frequently do you use email for communication?\n",
    "    df.columns[6]: \"LinkedIn_Use\",  # Do you use LinkedIn for professional networking?\n",
    "    df.columns[7]: \"Whatsapp_Frequency\",  # How often do you use WhatsApp for communication? \n",
    "    df.columns[8]: \"Primary_Social_Platform\",  # Which social media platforms do you use the most?\n",
    "    df.columns[9]: \"Mental_Health_Impact\"  # Do you feel that social media affects your mental health?\n",
    "}, inplace=True)"
   ]
  },
  {
   "cell_type": "code",
   "execution_count": 8,
   "id": "a4ced5f8",
   "metadata": {
    "execution": {
     "iopub.execute_input": "2025-04-15T04:28:53.354807Z",
     "iopub.status.busy": "2025-04-15T04:28:53.354151Z",
     "iopub.status.idle": "2025-04-15T04:28:53.358784Z",
     "shell.execute_reply": "2025-04-15T04:28:53.358089Z"
    },
    "papermill": {
     "duration": 0.0108,
     "end_time": "2025-04-15T04:28:53.360082",
     "exception": false,
     "start_time": "2025-04-15T04:28:53.349282",
     "status": "completed"
    },
    "tags": []
   },
   "outputs": [],
   "source": [
    "# Since most of the columns in this dataset are categorical, we fill missing values\n",
    "# with the placeholder 'Missing'. This resolves the common error many users face when\n",
    "# using categorical variables in model training.\n",
    "df_filled = df.fillna('Missing')"
   ]
  },
  {
   "cell_type": "code",
   "execution_count": 9,
   "id": "7e13f5bb",
   "metadata": {
    "execution": {
     "iopub.execute_input": "2025-04-15T04:28:53.369374Z",
     "iopub.status.busy": "2025-04-15T04:28:53.369118Z",
     "iopub.status.idle": "2025-04-15T04:28:53.380476Z",
     "shell.execute_reply": "2025-04-15T04:28:53.379641Z"
    },
    "papermill": {
     "duration": 0.017678,
     "end_time": "2025-04-15T04:28:53.381997",
     "exception": false,
     "start_time": "2025-04-15T04:28:53.364319",
     "status": "completed"
    },
    "tags": []
   },
   "outputs": [
    {
     "data": {
      "text/html": [
       "<div>\n",
       "<style scoped>\n",
       "    .dataframe tbody tr th:only-of-type {\n",
       "        vertical-align: middle;\n",
       "    }\n",
       "\n",
       "    .dataframe tbody tr th {\n",
       "        vertical-align: top;\n",
       "    }\n",
       "\n",
       "    .dataframe thead th {\n",
       "        text-align: right;\n",
       "    }\n",
       "</style>\n",
       "<table border=\"1\" class=\"dataframe\">\n",
       "  <thead>\n",
       "    <tr style=\"text-align: right;\">\n",
       "      <th></th>\n",
       "      <th>Age_Group</th>\n",
       "      <th>Occupation</th>\n",
       "      <th>Location</th>\n",
       "      <th>Daily_Social_Media_Hrs</th>\n",
       "      <th>Relationship_Impact</th>\n",
       "      <th>Email_Frequency</th>\n",
       "      <th>LinkedIn_Use</th>\n",
       "      <th>Whatsapp_Frequency</th>\n",
       "      <th>Primary_Social_Platform</th>\n",
       "      <th>Mental_Health_Impact</th>\n",
       "    </tr>\n",
       "  </thead>\n",
       "  <tbody>\n",
       "    <tr>\n",
       "      <th>0</th>\n",
       "      <td>18-25</td>\n",
       "      <td>Student</td>\n",
       "      <td>Urban Area</td>\n",
       "      <td>More than 5 hours</td>\n",
       "      <td>Improved</td>\n",
       "      <td>Daily</td>\n",
       "      <td>Yes, actively</td>\n",
       "      <td>Daily</td>\n",
       "      <td>LinkedIn</td>\n",
       "      <td>Yes, negatively</td>\n",
       "    </tr>\n",
       "    <tr>\n",
       "      <th>1</th>\n",
       "      <td>18-25</td>\n",
       "      <td>Student</td>\n",
       "      <td>Urban Area</td>\n",
       "      <td>3-5 hours</td>\n",
       "      <td>No Change</td>\n",
       "      <td>Never</td>\n",
       "      <td>No, never</td>\n",
       "      <td>Daily</td>\n",
       "      <td>Others</td>\n",
       "      <td>Not sure</td>\n",
       "    </tr>\n",
       "    <tr>\n",
       "      <th>2</th>\n",
       "      <td>18-25</td>\n",
       "      <td>Student</td>\n",
       "      <td>Urban Area</td>\n",
       "      <td>3-5 hours</td>\n",
       "      <td>No Change</td>\n",
       "      <td>Rarely</td>\n",
       "      <td>Rarely</td>\n",
       "      <td>Daily</td>\n",
       "      <td>Facebook</td>\n",
       "      <td>Not sure</td>\n",
       "    </tr>\n",
       "    <tr>\n",
       "      <th>3</th>\n",
       "      <td>18-25</td>\n",
       "      <td>Student</td>\n",
       "      <td>Urban Area</td>\n",
       "      <td>3-5 hours</td>\n",
       "      <td>Worsened</td>\n",
       "      <td>Never</td>\n",
       "      <td>No, never</td>\n",
       "      <td>Daily</td>\n",
       "      <td>Facebook</td>\n",
       "      <td>Yes, negatively</td>\n",
       "    </tr>\n",
       "    <tr>\n",
       "      <th>4</th>\n",
       "      <td>18-25</td>\n",
       "      <td>Student</td>\n",
       "      <td>Suburban Area</td>\n",
       "      <td>3-5 hours</td>\n",
       "      <td>Improved</td>\n",
       "      <td>A few times a week</td>\n",
       "      <td>Yes, actively</td>\n",
       "      <td>Daily</td>\n",
       "      <td>Facebook</td>\n",
       "      <td>Yes, negatively</td>\n",
       "    </tr>\n",
       "  </tbody>\n",
       "</table>\n",
       "</div>"
      ],
      "text/plain": [
       "  Age_Group Occupation       Location Daily_Social_Media_Hrs  \\\n",
       "0     18-25    Student     Urban Area      More than 5 hours   \n",
       "1     18-25    Student     Urban Area              3-5 hours   \n",
       "2     18-25    Student     Urban Area              3-5 hours   \n",
       "3     18-25    Student     Urban Area              3-5 hours   \n",
       "4     18-25    Student  Suburban Area              3-5 hours   \n",
       "\n",
       "  Relationship_Impact     Email_Frequency   LinkedIn_Use Whatsapp_Frequency  \\\n",
       "0            Improved               Daily  Yes, actively              Daily   \n",
       "1           No Change               Never      No, never              Daily   \n",
       "2           No Change              Rarely         Rarely              Daily   \n",
       "3            Worsened               Never      No, never              Daily   \n",
       "4            Improved  A few times a week  Yes, actively              Daily   \n",
       "\n",
       "  Primary_Social_Platform Mental_Health_Impact  \n",
       "0                LinkedIn      Yes, negatively  \n",
       "1                  Others             Not sure  \n",
       "2                Facebook             Not sure  \n",
       "3                Facebook      Yes, negatively  \n",
       "4                Facebook      Yes, negatively  "
      ]
     },
     "execution_count": 9,
     "metadata": {},
     "output_type": "execute_result"
    }
   ],
   "source": [
    "df_filled.head()"
   ]
  },
  {
   "cell_type": "markdown",
   "id": "da7ec3a7",
   "metadata": {
    "papermill": {
     "duration": 0.00402,
     "end_time": "2025-04-15T04:28:53.390447",
     "exception": false,
     "start_time": "2025-04-15T04:28:53.386427",
     "status": "completed"
    },
    "tags": []
   },
   "source": [
    "## Exploratory Data Analysis"
   ]
  },
  {
   "cell_type": "code",
   "execution_count": 10,
   "id": "494e455a",
   "metadata": {
    "execution": {
     "iopub.execute_input": "2025-04-15T04:28:53.400045Z",
     "iopub.status.busy": "2025-04-15T04:28:53.399758Z",
     "iopub.status.idle": "2025-04-15T04:28:53.932220Z",
     "shell.execute_reply": "2025-04-15T04:28:53.931454Z"
    },
    "papermill": {
     "duration": 0.539098,
     "end_time": "2025-04-15T04:28:53.933759",
     "exception": false,
     "start_time": "2025-04-15T04:28:53.394661",
     "status": "completed"
    },
    "tags": []
   },
   "outputs": [
    {
     "data": {
      "image/png": "[encoded data removed]",
      "text/plain": [
       "<Figure size 1400x600 with 2 Axes>"
      ]
     },
     "metadata": {},
     "output_type": "display_data"
    }
   ],
   "source": [
    "\n",
    "plt.figure(figsize=(14,6))\n",
    "\n",
    "# Age Group\n",
    "plt.subplot(1, 2, 1) \n",
    "sns.countplot(y=df_filled['Age_Group'])\n",
    "plt.title('Distribution of Age Groups')\n",
    "\n",
    "\n",
    "# Occupation\n",
    "plt.subplot(1, 2, 2) \n",
    "sns.countplot(y=df_filled['Occupation'])\n",
    "plt.title('Distribution of Occupations')\n",
    "\n",
    "\n",
    "plt.tight_layout()\n",
    "plt.show()"
   ]
  },
  {
   "cell_type": "code",
   "execution_count": 11,
   "id": "4f63a6f5",
   "metadata": {
    "execution": {
     "iopub.execute_input": "2025-04-15T04:28:53.944398Z",
     "iopub.status.busy": "2025-04-15T04:28:53.944114Z",
     "iopub.status.idle": "2025-04-15T04:28:54.101194Z",
     "shell.execute_reply": "2025-04-15T04:28:54.100203Z"
    },
    "papermill": {
     "duration": 0.164329,
     "end_time": "2025-04-15T04:28:54.103017",
     "exception": false,
     "start_time": "2025-04-15T04:28:53.938688",
     "status": "completed"
    },
    "tags": []
   },
   "outputs": [
    {
     "data": {
      "image/png": "[encoded data removed]",
      "text/plain": [
       "<Figure size 700x700 with 1 Axes>"
      ]
     },
     "metadata": {},
     "output_type": "display_data"
    }
   ],
   "source": [
    "plt.figure(figsize=(7,7))\n",
    "\n",
    "target_counts = df_filled['Mental_Health_Impact'].value_counts()\n",
    "plt.pie(target_counts, labels=target_counts.index, autopct='%1.1f%%', startangle=45)\n",
    "plt.title('Mental Health Impact Perception')\n",
    "\n",
    "plt.tight_layout()\n",
    "plt.show()"
   ]
  },
  {
   "cell_type": "code",
   "execution_count": 12,
   "id": "e18d805a",
   "metadata": {
    "execution": {
     "iopub.execute_input": "2025-04-15T04:28:54.115965Z",
     "iopub.status.busy": "2025-04-15T04:28:54.115647Z",
     "iopub.status.idle": "2025-04-15T04:28:54.125215Z",
     "shell.execute_reply": "2025-04-15T04:28:54.124465Z"
    },
    "papermill": {
     "duration": 0.017465,
     "end_time": "2025-04-15T04:28:54.126542",
     "exception": false,
     "start_time": "2025-04-15T04:28:54.109077",
     "status": "completed"
    },
    "tags": []
   },
   "outputs": [
    {
     "data": {
      "text/plain": [
       "Daily_Social_Media_Hrs\n",
       "1-2 hours            16\n",
       "3-5 hours            18\n",
       "Less than 1 hour      1\n",
       "More than 5 hours    14\n",
       "Name: count, dtype: int64"
      ]
     },
     "execution_count": 12,
     "metadata": {},
     "output_type": "execute_result"
    }
   ],
   "source": [
    "daily_hour_count=df_filled['Daily_Social_Media_Hrs'].value_counts().sort_index()\n",
    "daily_hour_count"
   ]
  },
  {
   "cell_type": "code",
   "execution_count": 13,
   "id": "53f1e9c2",
   "metadata": {
    "execution": {
     "iopub.execute_input": "2025-04-15T04:28:54.140260Z",
     "iopub.status.busy": "2025-04-15T04:28:54.139429Z",
     "iopub.status.idle": "2025-04-15T04:28:54.145099Z",
     "shell.execute_reply": "2025-04-15T04:28:54.144221Z"
    },
    "papermill": {
     "duration": 0.014114,
     "end_time": "2025-04-15T04:28:54.146567",
     "exception": false,
     "start_time": "2025-04-15T04:28:54.132453",
     "status": "completed"
    },
    "tags": []
   },
   "outputs": [],
   "source": [
    "# To maintain the consistency of this column, replacing of certain values is necessary\n",
    "\n",
    "df_filled['Daily_Social_Media_Hrs'] = df_filled['Daily_Social_Media_Hrs'].replace({\n",
    "    'Less than 1 hour': '0-1 hours',\n",
    "    'More than 5 hours': '5+ hours'\n",
    "})"
   ]
  },
  {
   "cell_type": "code",
   "execution_count": 14,
   "id": "9a348da6",
   "metadata": {
    "execution": {
     "iopub.execute_input": "2025-04-15T04:28:54.159231Z",
     "iopub.status.busy": "2025-04-15T04:28:54.158916Z",
     "iopub.status.idle": "2025-04-15T04:28:54.452406Z",
     "shell.execute_reply": "2025-04-15T04:28:54.451655Z"
    },
    "papermill": {
     "duration": 0.302012,
     "end_time": "2025-04-15T04:28:54.454101",
     "exception": false,
     "start_time": "2025-04-15T04:28:54.152089",
     "status": "completed"
    },
    "tags": []
   },
   "outputs": [
    {
     "data": {
      "image/png": "[encoded data removed]",
      "text/plain": [
       "<Figure size 800x500 with 1 Axes>"
      ]
     },
     "metadata": {},
     "output_type": "display_data"
    }
   ],
   "source": [
    "daily_hour_count=df_filled['Daily_Social_Media_Hrs'].value_counts().sort_index()\n",
    "\n",
    "#  bar plot\n",
    "plt.figure(figsize=(8, 5))\n",
    "daily_hour_count.plot(kind='bar', color=['skyblue', 'lightgreen', 'salmon'])  \n",
    "plt.title('Daily Social Media Usage Hours')\n",
    "plt.xlabel('Hours Spent on Social Media Daily')\n",
    "plt.ylabel('Number of Respondents')\n",
    "plt.xticks(rotation=0)  \n",
    "plt.grid(axis='y', alpha=0.7)  \n",
    "\n",
    "# counts on top of each bar\n",
    "for i, v in enumerate(daily_hour_count):\n",
    "    plt.text(i, v - 0.8, str(v), ha='center')  \n",
    "\n",
    "plt.tight_layout() \n",
    "plt.show()"
   ]
  },
  {
   "cell_type": "code",
   "execution_count": 15,
   "id": "0741800b",
   "metadata": {
    "execution": {
     "iopub.execute_input": "2025-04-15T04:28:54.468635Z",
     "iopub.status.busy": "2025-04-15T04:28:54.468292Z",
     "iopub.status.idle": "2025-04-15T04:28:54.475536Z",
     "shell.execute_reply": "2025-04-15T04:28:54.474710Z"
    },
    "papermill": {
     "duration": 0.01612,
     "end_time": "2025-04-15T04:28:54.476907",
     "exception": false,
     "start_time": "2025-04-15T04:28:54.460787",
     "status": "completed"
    },
    "tags": []
   },
   "outputs": [
    {
     "data": {
      "text/plain": [
       "Relationship_Impact\n",
       "No Change    17\n",
       "Worsened     17\n",
       "Improved     15\n",
       "Name: count, dtype: int64"
      ]
     },
     "execution_count": 15,
     "metadata": {},
     "output_type": "execute_result"
    }
   ],
   "source": [
    "relationship_counts = df_filled['Relationship_Impact'].value_counts()\n",
    "relationship_counts"
   ]
  },
  {
   "cell_type": "markdown",
   "id": "a798d6fb",
   "metadata": {
    "papermill": {
     "duration": 0.005998,
     "end_time": "2025-04-15T04:28:54.489393",
     "exception": false,
     "start_time": "2025-04-15T04:28:54.483395",
     "status": "completed"
    },
    "tags": []
   },
   "source": [
    "### Interesting Questions to Explore\n",
    "\n",
    "\n",
    "* Is there a relationship between time spent on social media and its impact on mental health?\n",
    "* Do students spend more time on social media than working professionals?\n",
    "* Which platforms are most used by different age groups?\n",
    "* Is LinkedIn primarily used by urban professionals or also by rural users?\n",
    "* Do people who use WhatsApp more also use email less?\n",
    "* Are younger users more likely to say social media affects their mental health?\n",
    "* What are the trends between social media use and perceived impact on real-life relationships?\n"
   ]
  },
  {
   "cell_type": "code",
   "execution_count": null,
   "id": "8023ea44",
   "metadata": {
    "papermill": {
     "duration": 0.005773,
     "end_time": "2025-04-15T04:28:54.501418",
     "exception": false,
     "start_time": "2025-04-15T04:28:54.495645",
     "status": "completed"
    },
    "tags": []
   },
   "outputs": [],
   "source": []
  }
 ],
 "metadata": {
  "kaggle": {
   "accelerator": "none",
   "dataSources": [
    {
     "datasetId": 7042138,
     "sourceId": 11266082,
     "sourceType": "datasetVersion"
    }
   ],
   "dockerImageVersionId": 31012,
   "isGpuEnabled": false,
   "isInternetEnabled": true,
   "language": "python",
   "sourceType": "notebook"
  },
  "kernelspec": {
   "display_name": "Python 3",
   "language": "python",
   "name": "python3"
  },
  "language_info": {
   "codemirror_mode": {
    "name": "ipython",
    "version": 3
   },
   "file_extension": ".py",
   "mimetype": "text/x-python",
   "name": "python",
   "nbconvert_exporter": "python",
   "pygments_lexer": "ipython3",
   "version": "3.11.11"
  },
  "papermill": {
   "default_parameters": {},
   "duration": 10.903387,
   "end_time": "2025-04-15T04:28:55.227690",
   "environment_variables": {},
   "exception": null,
   "input_path": "__notebook__.ipynb",
   "output_path": "__notebook__.ipynb",
   "parameters": {},
   "start_time": "2025-04-15T04:28:44.324303",
   "version": "2.6.0"
  }
 },
 "nbformat": 4,
 "nbformat_minor": 5
}
